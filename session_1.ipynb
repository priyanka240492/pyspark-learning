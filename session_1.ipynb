{
 "cells": [
  {
   "cell_type": "markdown",
   "id": "8f0d51d8",
   "metadata": {},
   "source": [
    "## ✅ Pre-Requisites\n",
    "\n",
    "### 1. Install Java (JDK)\n",
    "\n",
    "- 🔗 Download:  \n",
    "  [https://www.oracle.com/nz/java/technologies/downloads/#java17-windows](https://www.oracle.com/nz/java/technologies/downloads/#java17-windows)\n",
    "\n",
    "- ⚙️ Set `JAVA_HOME` (Environment Variable):\n",
    "\n",
    "  #### Step 1: Set `JAVA_HOME`\n",
    "\n",
    "  - Press `Windows + S` → Search for **\"Environment Variables\"**\n",
    "  - Click **\"Edit the system environment variables\"**\n",
    "  - In the **System Properties** window → Click **\"Environment Variables…\"**\n",
    "  - Under **System Variables** → Click **New…**\n",
    "    - **Variable name**: `JAVA_HOME`  \n",
    "    - **Variable value**:\n",
    "      ```\n",
    "      C:\\Program Files\\Java\\jdk-17\n",
    "      ```\n",
    "\n",
    "  #### Step 2: Add `JAVA_HOME\\bin` to `Path`\n",
    "\n",
    "  - Still under **System Variables**, find **Path** → Click **Edit…**\n",
    "  - Click **New**, and add:\n",
    "    ```\n",
    "    %JAVA_HOME%\\bin\n",
    "    ```\n",
    "\n",
    "---\n",
    "\n",
    "### 2. Install Apache Spark\n",
    "\n",
    "- 🔗 Download:  \n",
    "  [https://spark.apache.org/downloads.html](https://spark.apache.org/downloads.html)\n",
    "\n",
    "- 📦 Extract the `.tgz` file to a folder like: C:\\spark\n",
    "\n",
    "- ⚙️ Set `SPARK_HOME` (Environment Variable):\n",
    "\n",
    "#### Repeat the steps for `SPARK_HOME`:\n",
    "\n",
    "- **Variable name**: `SPARK_HOME`  \n",
    "- **Variable value**:\n",
    "  ```\n",
    "  C:\\spark\\spark-4.0.0-bin-hadoop3\n",
    "  ```\n",
    "\n",
    "#### Add `%SPARK_HOME%\\bin` to `Path`:\n",
    "\n",
    "- Still under **System Variables**, find **Path** → Click **Edit…**\n",
    "- Click **New**, and add:\n",
    "  ```\n",
    "  %SPARK_HOME%\\bin\n",
    "  ```\n"
   ]
  },
  {
   "cell_type": "code",
   "execution_count": 1,
   "id": "015aefa4",
   "metadata": {},
   "outputs": [
    {
     "name": "stdout",
     "output_type": "stream",
     "text": [
      "Requirement already satisfied: pyspark==4.0.0 in c:\\users\\priya\\anaconda3\\lib\\site-packages (4.0.0)\n",
      "Requirement already satisfied: py4j==0.10.9.9 in c:\\users\\priya\\anaconda3\\lib\\site-packages (from pyspark==4.0.0) (0.10.9.9)\n"
     ]
    }
   ],
   "source": [
    "!pip install pyspark==4.0.0"
   ]
  },
  {
   "cell_type": "code",
   "execution_count": 2,
   "id": "fccc937f",
   "metadata": {},
   "outputs": [],
   "source": [
    "import pyspark\n",
    "import pandas as pd"
   ]
  },
  {
   "cell_type": "code",
   "execution_count": 3,
   "id": "dc7d864e",
   "metadata": {},
   "outputs": [
    {
     "data": {
      "text/html": [
       "<div>\n",
       "<style scoped>\n",
       "    .dataframe tbody tr th:only-of-type {\n",
       "        vertical-align: middle;\n",
       "    }\n",
       "\n",
       "    .dataframe tbody tr th {\n",
       "        vertical-align: top;\n",
       "    }\n",
       "\n",
       "    .dataframe thead th {\n",
       "        text-align: right;\n",
       "    }\n",
       "</style>\n",
       "<table border=\"1\" class=\"dataframe\">\n",
       "  <thead>\n",
       "    <tr style=\"text-align: right;\">\n",
       "      <th></th>\n",
       "      <th>id</th>\n",
       "      <th>name</th>\n",
       "      <th>artists</th>\n",
       "      <th>duration_ms</th>\n",
       "      <th>release_date</th>\n",
       "      <th>year</th>\n",
       "      <th>acousticness</th>\n",
       "      <th>danceability</th>\n",
       "      <th>energy</th>\n",
       "      <th>instrumentalness</th>\n",
       "      <th>liveness</th>\n",
       "      <th>loudness</th>\n",
       "      <th>speechiness</th>\n",
       "      <th>tempo</th>\n",
       "      <th>valence</th>\n",
       "      <th>mode</th>\n",
       "      <th>key</th>\n",
       "      <th>popularity</th>\n",
       "      <th>explicit</th>\n",
       "    </tr>\n",
       "  </thead>\n",
       "  <tbody>\n",
       "    <tr>\n",
       "      <th>0</th>\n",
       "      <td>6KbQ3uYMLKb5jDxLF7wYDD</td>\n",
       "      <td>Singende Bataillone 1. Teil</td>\n",
       "      <td>['Carl Woitschach']</td>\n",
       "      <td>158648</td>\n",
       "      <td>1928</td>\n",
       "      <td>1928</td>\n",
       "      <td>0.995</td>\n",
       "      <td>0.708</td>\n",
       "      <td>0.1950</td>\n",
       "      <td>0.563</td>\n",
       "      <td>0.1510</td>\n",
       "      <td>-12.428</td>\n",
       "      <td>0.0506</td>\n",
       "      <td>118.469</td>\n",
       "      <td>0.7790</td>\n",
       "      <td>1</td>\n",
       "      <td>10</td>\n",
       "      <td>0</td>\n",
       "      <td>0</td>\n",
       "    </tr>\n",
       "    <tr>\n",
       "      <th>1</th>\n",
       "      <td>6KuQTIu1KoTTkLXKrwlLPV</td>\n",
       "      <td>Fantasiestücke, Op. 111: Più tosto lento</td>\n",
       "      <td>['Robert Schumann', 'Vladimir Horowitz']</td>\n",
       "      <td>282133</td>\n",
       "      <td>1928</td>\n",
       "      <td>1928</td>\n",
       "      <td>0.994</td>\n",
       "      <td>0.379</td>\n",
       "      <td>0.0135</td>\n",
       "      <td>0.901</td>\n",
       "      <td>0.0763</td>\n",
       "      <td>-28.454</td>\n",
       "      <td>0.0462</td>\n",
       "      <td>83.972</td>\n",
       "      <td>0.0767</td>\n",
       "      <td>1</td>\n",
       "      <td>8</td>\n",
       "      <td>0</td>\n",
       "      <td>0</td>\n",
       "    </tr>\n",
       "    <tr>\n",
       "      <th>2</th>\n",
       "      <td>6L63VW0PibdM1HDSBoqnoM</td>\n",
       "      <td>Chapter 1.18 - Zamek kaniowski</td>\n",
       "      <td>['Seweryn Goszczyński']</td>\n",
       "      <td>104300</td>\n",
       "      <td>1928</td>\n",
       "      <td>1928</td>\n",
       "      <td>0.604</td>\n",
       "      <td>0.749</td>\n",
       "      <td>0.2200</td>\n",
       "      <td>0.000</td>\n",
       "      <td>0.1190</td>\n",
       "      <td>-19.924</td>\n",
       "      <td>0.9290</td>\n",
       "      <td>107.177</td>\n",
       "      <td>0.8800</td>\n",
       "      <td>0</td>\n",
       "      <td>5</td>\n",
       "      <td>0</td>\n",
       "      <td>0</td>\n",
       "    </tr>\n",
       "    <tr>\n",
       "      <th>3</th>\n",
       "      <td>6M94FkXd15sOAOQYRnWPN8</td>\n",
       "      <td>Bebamos Juntos - Instrumental (Remasterizado)</td>\n",
       "      <td>['Francisco Canaro']</td>\n",
       "      <td>180760</td>\n",
       "      <td>9/25/28</td>\n",
       "      <td>1928</td>\n",
       "      <td>0.995</td>\n",
       "      <td>0.781</td>\n",
       "      <td>0.1300</td>\n",
       "      <td>0.887</td>\n",
       "      <td>0.1110</td>\n",
       "      <td>-14.734</td>\n",
       "      <td>0.0926</td>\n",
       "      <td>108.003</td>\n",
       "      <td>0.7200</td>\n",
       "      <td>0</td>\n",
       "      <td>1</td>\n",
       "      <td>0</td>\n",
       "      <td>0</td>\n",
       "    </tr>\n",
       "    <tr>\n",
       "      <th>4</th>\n",
       "      <td>6N6tiFZ9vLTSOIxkj8qKrd</td>\n",
       "      <td>Polonaise-Fantaisie in A-Flat Major, Op. 61</td>\n",
       "      <td>['Frédéric Chopin', 'Vladimir Horowitz']</td>\n",
       "      <td>687733</td>\n",
       "      <td>1928</td>\n",
       "      <td>1928</td>\n",
       "      <td>0.990</td>\n",
       "      <td>0.210</td>\n",
       "      <td>0.2040</td>\n",
       "      <td>0.908</td>\n",
       "      <td>0.0980</td>\n",
       "      <td>-16.829</td>\n",
       "      <td>0.0424</td>\n",
       "      <td>62.149</td>\n",
       "      <td>0.0693</td>\n",
       "      <td>1</td>\n",
       "      <td>11</td>\n",
       "      <td>1</td>\n",
       "      <td>0</td>\n",
       "    </tr>\n",
       "  </tbody>\n",
       "</table>\n",
       "</div>"
      ],
      "text/plain": [
       "                       id                                           name  \\\n",
       "0  6KbQ3uYMLKb5jDxLF7wYDD                    Singende Bataillone 1. Teil   \n",
       "1  6KuQTIu1KoTTkLXKrwlLPV       Fantasiestücke, Op. 111: Più tosto lento   \n",
       "2  6L63VW0PibdM1HDSBoqnoM                 Chapter 1.18 - Zamek kaniowski   \n",
       "3  6M94FkXd15sOAOQYRnWPN8  Bebamos Juntos - Instrumental (Remasterizado)   \n",
       "4  6N6tiFZ9vLTSOIxkj8qKrd    Polonaise-Fantaisie in A-Flat Major, Op. 61   \n",
       "\n",
       "                                    artists  duration_ms release_date  year  \\\n",
       "0                       ['Carl Woitschach']       158648         1928  1928   \n",
       "1  ['Robert Schumann', 'Vladimir Horowitz']       282133         1928  1928   \n",
       "2                   ['Seweryn Goszczyński']       104300         1928  1928   \n",
       "3                      ['Francisco Canaro']       180760      9/25/28  1928   \n",
       "4  ['Frédéric Chopin', 'Vladimir Horowitz']       687733         1928  1928   \n",
       "\n",
       "   acousticness  danceability  energy  instrumentalness  liveness  loudness  \\\n",
       "0         0.995         0.708  0.1950             0.563    0.1510   -12.428   \n",
       "1         0.994         0.379  0.0135             0.901    0.0763   -28.454   \n",
       "2         0.604         0.749  0.2200             0.000    0.1190   -19.924   \n",
       "3         0.995         0.781  0.1300             0.887    0.1110   -14.734   \n",
       "4         0.990         0.210  0.2040             0.908    0.0980   -16.829   \n",
       "\n",
       "   speechiness    tempo  valence  mode  key  popularity  explicit  \n",
       "0       0.0506  118.469   0.7790     1   10           0         0  \n",
       "1       0.0462   83.972   0.0767     1    8           0         0  \n",
       "2       0.9290  107.177   0.8800     0    5           0         0  \n",
       "3       0.0926  108.003   0.7200     0    1           0         0  \n",
       "4       0.0424   62.149   0.0693     1   11           1         0  "
      ]
     },
     "execution_count": 3,
     "metadata": {},
     "output_type": "execute_result"
    }
   ],
   "source": [
    "df = pd.read_csv('spotify-data.csv')\n",
    "df.head()"
   ]
  },
  {
   "cell_type": "code",
   "execution_count": 4,
   "id": "5e965378",
   "metadata": {},
   "outputs": [],
   "source": [
    "from pyspark.sql import SparkSession"
   ]
  },
  {
   "cell_type": "code",
   "execution_count": 5,
   "id": "d75ea6d8",
   "metadata": {},
   "outputs": [],
   "source": [
    "spark = SparkSession.builder.appName('my-learning-klp-1').getOrCreate()"
   ]
  },
  {
   "cell_type": "code",
   "execution_count": 6,
   "id": "df0001cd",
   "metadata": {},
   "outputs": [
    {
     "data": {
      "text/html": [
       "\n",
       "            <div>\n",
       "                <p><b>SparkSession - in-memory</b></p>\n",
       "                \n",
       "        <div>\n",
       "            <p><b>SparkContext</b></p>\n",
       "\n",
       "            <p><a href=\"http://PRIYA-HP-DEVICE:4040\">Spark UI</a></p>\n",
       "\n",
       "            <dl>\n",
       "              <dt>Version</dt>\n",
       "                <dd><code>v4.0.0</code></dd>\n",
       "              <dt>Master</dt>\n",
       "                <dd><code>local[*]</code></dd>\n",
       "              <dt>AppName</dt>\n",
       "                <dd><code>my-learning-klp-1</code></dd>\n",
       "            </dl>\n",
       "        </div>\n",
       "        \n",
       "            </div>\n",
       "        "
      ],
      "text/plain": [
       "<pyspark.sql.session.SparkSession at 0x1b4822b6d90>"
      ]
     },
     "execution_count": 6,
     "metadata": {},
     "output_type": "execute_result"
    }
   ],
   "source": [
    "spark"
   ]
  },
  {
   "cell_type": "code",
   "execution_count": 7,
   "id": "9c8b02aa",
   "metadata": {},
   "outputs": [],
   "source": [
    "spark_df = spark.read.csv('spotify-data.csv')"
   ]
  },
  {
   "cell_type": "code",
   "execution_count": 9,
   "id": "0384534e",
   "metadata": {},
   "outputs": [
    {
     "data": {
      "text/plain": [
       "DataFrame[_c0: string, _c1: string, _c2: string, _c3: string, _c4: string, _c5: string, _c6: string, _c7: string, _c8: string, _c9: string, _c10: string, _c11: string, _c12: string, _c13: string, _c14: string, _c15: string, _c16: string, _c17: string, _c18: string]"
      ]
     },
     "execution_count": 9,
     "metadata": {},
     "output_type": "execute_result"
    }
   ],
   "source": [
    "spark_df"
   ]
  },
  {
   "cell_type": "code",
   "execution_count": 10,
   "id": "845bb269",
   "metadata": {},
   "outputs": [
    {
     "name": "stdout",
     "output_type": "stream",
     "text": [
      "+--------------------+--------------------+--------------------+-----------+------------+----+------------+------------+-------+----------------+--------+--------+-----------+-------+-------+----+----+----------+--------+\n",
      "|                 _c0|                 _c1|                 _c2|        _c3|         _c4| _c5|         _c6|         _c7|    _c8|             _c9|    _c10|    _c11|       _c12|   _c13|   _c14|_c15|_c16|      _c17|    _c18|\n",
      "+--------------------+--------------------+--------------------+-----------+------------+----+------------+------------+-------+----------------+--------+--------+-----------+-------+-------+----+----+----------+--------+\n",
      "|                  id|                name|             artists|duration_ms|release_date|year|acousticness|danceability| energy|instrumentalness|liveness|loudness|speechiness|  tempo|valence|mode| key|popularity|explicit|\n",
      "|6KbQ3uYMLKb5jDxLF...|Singende Bataillo...| ['Carl Woitschach']|     158648|        1928|1928|       0.995|       0.708|  0.195|           0.563|   0.151| -12.428|     0.0506|118.469|  0.779|   1|  10|         0|       0|\n",
      "|6KuQTIu1KoTTkLXKr...|Fantasiestücke, O...|['Robert Schumann...|     282133|        1928|1928|       0.994|       0.379| 0.0135|           0.901|  0.0763| -28.454|     0.0462| 83.972| 0.0767|   1|   8|         0|       0|\n",
      "|6L63VW0PibdM1HDSB...|Chapter 1.18 - Za...|['Seweryn Goszczy...|     104300|        1928|1928|       0.604|       0.749|   0.22|               0|   0.119| -19.924|      0.929|107.177|   0.88|   0|   5|         0|       0|\n",
      "|6M94FkXd15sOAOQYR...|Bebamos Juntos - ...|['Francisco Canaro']|     180760|     9/25/28|1928|       0.995|       0.781|   0.13|           0.887|   0.111| -14.734|     0.0926|108.003|   0.72|   0|   1|         0|       0|\n",
      "|6N6tiFZ9vLTSOIxkj...|Polonaise-Fantais...|['Frédéric Chopin...|     687733|        1928|1928|        0.99|        0.21|  0.204|           0.908|   0.098| -16.829|     0.0424| 62.149| 0.0693|   1|  11|         1|       0|\n",
      "|6NxAf7M8DNHOBTmEd...|Scherzo a capricc...|['Felix Mendelsso...|     352600|        1928|1928|       0.995|       0.424|   0.12|           0.911|  0.0915| -19.242|     0.0593| 63.521|  0.266|   0|   6|         0|       0|\n",
      "|6O0puPuyrxPjDTHDU...|Valse oubliée No....|['Franz Liszt', '...|     136627|        1928|1928|       0.956|       0.444|  0.197|           0.435|  0.0744| -17.226|       0.04| 80.495|  0.305|   1|  11|         0|       0|\n",
      "|6OJjveoYwJdIt76y0...| Per aspera ad astra| ['Carl Woitschach']|     153967|        1928|1928|       0.988|       0.555|  0.421|           0.836|   0.105|  -9.878|     0.0474| 123.31|  0.857|   1|   1|         0|       0|\n",
      "|6OaJ8Bh7lsBeYoBmw...|Moneda Corriente ...|['Francisco Canar...|     162493|     10/3/28|1928|       0.995|       0.683|  0.207|           0.206|   0.337|  -9.801|      0.127|119.833|  0.493|   0|   9|         0|       0|\n",
      "|6PrZexNb16cabXR8Q...|Chapter 1.3 - Zam...|['Seweryn Goszczy...|     111600|        1928|1928|       0.846|       0.674|  0.205|               0|    0.17| -20.119|      0.954| 81.249|  0.759|   1|   9|         0|       0|\n",
      "|6QBInZBkQNIQYU9gG...|Piano Sonata No. ...|['Sergei Rachmani...|     590293|        1928|1928|       0.994|       0.376| 0.0719|           0.883|   0.196| -21.849|     0.0352| 141.39| 0.0393|   0|  10|         0|       0|\n",
      "|6QIONtzbQCbnmWNwn...|Piano Sonata No. ...|['Frédéric Chopin...|      85133|        1928|1928|       0.989|        0.17| 0.0823|           0.911|  0.0962| -30.107|     0.0317| 85.989|  0.346|   0|  10|         1|       0|\n",
      "|6QgdUySTRGVkNo3Kw...|Piano Sonata in E...|['Samuel Barber',...|     338333|        1928|1928|        0.99|       0.359| 0.0435|           0.899|   0.109| -20.858|     0.0424| 96.645|  0.042|   1|   7|         0|       0|\n",
      "|6RvSNoCPBZeTR2LyG...|Nachtstücke, Op. ...|['Robert Schumann...|     167333|        1928|1928|       0.992|       0.311| 0.0107|           0.883|  0.0954| -35.648|     0.0556|  78.98|  0.216|   1|   5|         0|       0|\n",
      "|6Rwn56jcC0TdGQzbR...|Symphony No. 5 in...|['Ludwig van Beet...|     276563|      1/1/28|1928|       0.977|       0.335|  0.105|            0.84|   0.231| -16.049|     0.0716| 80.204|  0.406|   0|   5|         0|       0|\n",
      "|6Sdpmree8xpGWaedA...|A Shropshire Lad:...|['George Butterwo...|     184840|        1928|1928|       0.991|       0.319|0.00593|        6.35E-05|  0.0691| -25.789|      0.051| 79.831|  0.169|   0|   7|         0|       0|\n",
      "|6T0mZB7p3qzOifdXZ...|Sonata No. 3, Op....|['Alexander Scria...|     326067|        1928|1928|       0.996|       0.319|  0.155|           0.917|   0.126| -18.728|      0.036| 66.947| 0.0488|   1|   4|         0|       0|\n",
      "|6TFuAErGpJ9FpxQQ1...|Invocación al Tan...|['Francisco Canar...|     167107|     9/16/28|1928|       0.994|       0.787|  0.156|           0.659|    0.11| -14.056|      0.157|117.167|  0.849|   0|   4|         0|       0|\n",
      "|6UUfiNT82MWBNnmsE...| Where the Bee Sucks|['Thomas Arne', '...|     122533|        1928|1928|       0.993|       0.569|   0.15|          0.0015|   0.106| -15.238|     0.0474|  76.93|  0.596|   1|   5|         0|       0|\n",
      "+--------------------+--------------------+--------------------+-----------+------------+----+------------+------------+-------+----------------+--------+--------+-----------+-------+-------+----+----+----------+--------+\n",
      "only showing top 20 rows\n"
     ]
    }
   ],
   "source": [
    "spark_df.show()"
   ]
  },
  {
   "cell_type": "code",
   "execution_count": null,
   "id": "33dac077",
   "metadata": {},
   "outputs": [],
   "source": []
  },
  {
   "cell_type": "code",
   "execution_count": null,
   "id": "bc852125",
   "metadata": {},
   "outputs": [],
   "source": []
  },
  {
   "cell_type": "code",
   "execution_count": null,
   "id": "b4dbb704",
   "metadata": {},
   "outputs": [],
   "source": []
  },
  {
   "cell_type": "code",
   "execution_count": null,
   "id": "6172567a",
   "metadata": {},
   "outputs": [],
   "source": []
  }
 ],
 "metadata": {
  "kernelspec": {
   "display_name": "Python 3 (ipykernel)",
   "language": "python",
   "name": "python3"
  },
  "language_info": {
   "codemirror_mode": {
    "name": "ipython",
    "version": 3
   },
   "file_extension": ".py",
   "mimetype": "text/x-python",
   "name": "python",
   "nbconvert_exporter": "python",
   "pygments_lexer": "ipython3",
   "version": "3.9.13"
  }
 },
 "nbformat": 4,
 "nbformat_minor": 5
}
